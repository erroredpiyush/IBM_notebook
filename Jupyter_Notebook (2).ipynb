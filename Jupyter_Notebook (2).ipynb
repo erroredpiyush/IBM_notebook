{
 "cells": [
  {
   "cell_type": "markdown",
   "metadata": {},
   "source": [
    "<center>\n",
    "    <img src=\"https://s3-api.us-geo.objectstorage.softlayer.net/cf-courses-data/CognitiveClass/Logos/organization_logo/organization_logo.png\" width=\"300\" alt=\"cognitiveclass.ai logo\"  />\n",
    "</center>\n"
   ]
  },
  {
   "cell_type": "markdown",
   "metadata": {},
   "source": [
    "#### Add your code below following the instructions given in the course\n"
   ]
  },
  {
   "cell_type": "markdown",
   "metadata": {},
   "source": [
    "<a href=\"https://dataplatform.cloud.ibm.com/gallery\">IBM Cloud Gallery</a> "
   ]
  },
  {
   "cell_type": "markdown",
   "metadata": {},
   "source": [
    "# My Jupyter Notebook on IBM Watson Studio"
   ]
  },
  {
   "cell_type": "markdown",
   "metadata": {},
   "source": [
    "##### PIYUSH GUPTA\n",
    "I want to be a Data Analyst."
   ]
  },
  {
   "cell_type": "markdown",
   "metadata": {},
   "source": [
    "*It is because I like to derive insights from the large amount of data for the organizations in order to help in their business growth.*\n",
    "\n"
   ]
  },
  {
   "cell_type": "markdown",
   "metadata": {},
   "source": [
    "### Following program derives the area of circle"
   ]
  },
  {
   "cell_type": "code",
   "execution_count": 1,
   "metadata": {},
   "outputs": [
    {
     "name": "stdout",
     "output_type": "stream",
     "text": [
      "ENTER THE RADIUS\n"
     ]
    },
    {
     "name": "stdin",
     "output_type": "stream",
     "text": [
      " 10\n"
     ]
    },
    {
     "name": "stdout",
     "output_type": "stream",
     "text": [
      "CIRCLE OF RADIUS 10 HAVE AREA OF 314.0\n"
     ]
    }
   ],
   "source": [
    "def area(r):\n",
    "    return 3.14*r*r\n",
    "\n",
    "print(\"ENTER THE RADIUS\")\n",
    "radius=int(input())\n",
    "a=area(radius)\n",
    "print(\"CIRCLE OF RADIUS {0} HAVE AREA OF {1}\".format(radius,a))"
   ]
  },
  {
   "cell_type": "markdown",
   "metadata": {},
   "source": [
    "| **NAME**   | **RADIUS(in metres)** | **AREA(in sq.metres)**  | \n",
    "|------------|-----------------------|-------------------------|\n",
    "| **PAUL**   | 10                    | 314                     |\n",
    "| **ARTHUR** | 25                    | 1962.5                  |\n",
    "| **ROMY**   | 18                    | 1017.36                 |\n",
    "\n",
    "\n",
    "[About Coursera](https://about.coursera.org/)\n",
    "\n",
    "![Image](https://external-content.duckduckgo.com/iu/?u=https%3A%2F%2Ftse1.mm.bing.net%2Fth%3Fid%3DOIP.avxhtQqr5FoubGjq4sIXugHaEo%26pid%3DApi&f=1/600/400)"
   ]
  },
  {
   "cell_type": "code",
   "execution_count": null,
   "metadata": {},
   "outputs": [],
   "source": []
  }
 ],
 "metadata": {
  "kernelspec": {
   "display_name": "Python",
   "language": "python",
   "name": "conda-env-python-py"
  },
  "language_info": {
   "codemirror_mode": {
    "name": "ipython",
    "version": 3
   },
   "file_extension": ".py",
   "mimetype": "text/x-python",
   "name": "python",
   "nbconvert_exporter": "python",
   "pygments_lexer": "ipython3",
   "version": "3.7.12"
  }
 },
 "nbformat": 4,
 "nbformat_minor": 4
}
